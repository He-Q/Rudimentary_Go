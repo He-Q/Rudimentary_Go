{
 "cells": [
  {
   "cell_type": "code",
   "execution_count": null,
   "metadata": {},
   "outputs": [],
   "source": [
    "// Declaring a single variable"
   ]
  },
  {
   "cell_type": "code",
   "execution_count": 7,
   "metadata": {},
   "outputs": [
    {
     "name": "stdout",
     "output_type": "stream",
     "text": [
      "My age is 0\n",
      "My age is 25\n"
     ]
    },
    {
     "data": {
      "text/plain": [
       "13 <nil>"
      ]
     },
     "execution_count": 7,
     "metadata": {},
     "output_type": "execute_result"
    }
   ],
   "source": [
    "import \"fmt\"\n",
    "\n",
    "var age int // variable declaration\n",
    "fmt.Println(\"My age is\", age)\n",
    "age = 25\n",
    "fmt.Println(\"My age is\",age)\n"
   ]
  },
  {
   "cell_type": "code",
   "execution_count": 8,
   "metadata": {},
   "outputs": [],
   "source": [
    "// Declaring a variable with an initial value\n",
    "\n",
    "// var name type = initialvalue "
   ]
  },
  {
   "cell_type": "code",
   "execution_count": 11,
   "metadata": {},
   "outputs": [
    {
     "name": "stdout",
     "output_type": "stream",
     "text": [
      "My age is 25\n"
     ]
    }
   ],
   "source": [
    "import \"fmt\"\n",
    "\n",
    "func main(){\n",
    "var age int = 25\n",
    "    fmt.Println(\"My age is\", age)\n",
    "}\n",
    "\n",
    "main()"
   ]
  },
  {
   "cell_type": "code",
   "execution_count": 12,
   "metadata": {},
   "outputs": [],
   "source": [
    "// Type inference\n",
    "\n",
    "// var name = initialvalue  \n",
    "\n",
    "// Go will automatically \n",
    "// infer the type of that variable from the initial value."
   ]
  },
  {
   "cell_type": "code",
   "execution_count": 14,
   "metadata": {},
   "outputs": [
    {
     "name": "stdout",
     "output_type": "stream",
     "text": [
      "My age is 29\n"
     ]
    }
   ],
   "source": [
    "package main\n",
    "\n",
    "import \"fmt\"\n",
    "\n",
    "func main() {  \n",
    "    var age = 29 // type will be inferred\n",
    "    fmt.Println(\"My age is\", age)\n",
    "}\n",
    "\n",
    "main()"
   ]
  },
  {
   "cell_type": "code",
   "execution_count": 16,
   "metadata": {},
   "outputs": [],
   "source": [
    "// Multiple variable declaration\n",
    "\n",
    "//var name1, name2 type = initialvalue1, initialvalue2"
   ]
  },
  {
   "cell_type": "code",
   "execution_count": 18,
   "metadata": {},
   "outputs": [
    {
     "name": "stdout",
     "output_type": "stream",
     "text": [
      "Width is 100 height is 50\n"
     ]
    }
   ],
   "source": [
    "package main\n",
    "\n",
    "import \"fmt\"\n",
    "\n",
    "func main(){\n",
    "    var width,height int = 100, 50 // declaring multiple variables\n",
    "    fmt.Println(\"Width is\",width,\"height is\",height)\n",
    "}\n",
    "\n",
    "main()"
   ]
  },
  {
   "cell_type": "code",
   "execution_count": 20,
   "metadata": {},
   "outputs": [
    {
     "name": "stdout",
     "output_type": "stream",
     "text": [
      "width is 0 height is 0\n",
      "new width is 100 new height is 50\n"
     ]
    }
   ],
   "source": [
    "package main\n",
    "\n",
    "import \"fmt\"\n",
    "\n",
    "func main() {  \n",
    "    var width, height int\n",
    "    fmt.Println(\"width is\", width, \"height is\", height)\n",
    "    width = 100\n",
    "    height = 50\n",
    "    fmt.Println(\"new width is\", width, \"new height is\", height)\n",
    "}\n",
    "\n",
    "main()"
   ]
  },
  {
   "cell_type": "code",
   "execution_count": 28,
   "metadata": {},
   "outputs": [
    {
     "name": "stdout",
     "output_type": "stream",
     "text": [
      "My name is James  age is  15 and height  0\n"
     ]
    }
   ],
   "source": [
    "/*\n",
    "There might be cases where we would want to declare variables belonging to different types in a single statement. \n",
    "The syntax for doing that is\n",
    "\n",
    "var (  \n",
    "      name1 = initialvalue1\n",
    "      name2 = initialvalue2\n",
    ")\n",
    "\n",
    "*/\n",
    "\n",
    "package main\n",
    "\n",
    "import \"fmt\"\n",
    "\n",
    "func main(){\n",
    "    var(\n",
    "        name = \"James\"\n",
    "        age = 15\n",
    "        height int\n",
    "    )\n",
    "    fmt.Println(\"My name is\", name, \" age is \",age, \"and height \",height);\n",
    "}\n",
    "\n",
    "\n",
    "main()"
   ]
  },
  {
   "cell_type": "code",
   "execution_count": 29,
   "metadata": {},
   "outputs": [],
   "source": [
    "// Short hand declaration\n",
    "// uses := operator"
   ]
  },
  {
   "cell_type": "code",
   "execution_count": 32,
   "metadata": {},
   "outputs": [
    {
     "name": "stdout",
     "output_type": "stream",
     "text": [
      "Count = 10\n"
     ]
    }
   ],
   "source": [
    "package main\n",
    "\n",
    "import \"fmt\"\n",
    "\n",
    "func main(){\n",
    "    count := 10\n",
    "    fmt.Println(\"Count =\",count)\n",
    "}\n",
    "main()"
   ]
  },
  {
   "cell_type": "code",
   "execution_count": 33,
   "metadata": {},
   "outputs": [
    {
     "name": "stdout",
     "output_type": "stream",
     "text": [
      "Name is  James and age is  26\n"
     ]
    }
   ],
   "source": [
    "package main\n",
    "\n",
    "import \"fmt\"\n",
    "\n",
    "func main(){\n",
    "    name, age := \"James\", 26\n",
    "    fmt.Println(\"Name is \", name , \"and age is \",age)\n",
    "}\n",
    "main()"
   ]
  },
  {
   "cell_type": "code",
   "execution_count": 34,
   "metadata": {},
   "outputs": [],
   "source": [
    "// Short hand syntax can only be used when at least one of the variables on the left side of := is newly declared.\n",
    "// Consider the following program"
   ]
  },
  {
   "cell_type": "code",
   "execution_count": 38,
   "metadata": {},
   "outputs": [
    {
     "name": "stdout",
     "output_type": "stream",
     "text": [
      "a is  20 b is  30\n",
      "b is 40 c is  50\n",
      "changed b is 80 c is 90\n"
     ]
    }
   ],
   "source": [
    "package main\n",
    "\n",
    "import \"fmt\"\n",
    "\n",
    "func main(){\n",
    "    a, b := 20, 30\n",
    "    fmt.Println(\"a is \", a, \"b is \", b)\n",
    "    b, c := 40, 50\n",
    "    fmt.Println(\"b is\", b, \"c is \", c)\n",
    "    b, c = 80, 90\n",
    "    fmt.Println(\"changed b is\",b, \"c is\", c)\n",
    "    \n",
    "}\n",
    "main()"
   ]
  },
  {
   "cell_type": "code",
   "execution_count": 45,
   "metadata": {},
   "outputs": [
    {
     "ename": "ERROR",
     "evalue": "repl.go:10:37: undefined identifier: c",
     "output_type": "error",
     "traceback": [
      "repl.go:10:37: undefined identifier: c"
     ]
    }
   ],
   "source": [
    "\n",
    "package main\n",
    "\n",
    "import \"fmt\"\n",
    "\n",
    "func main(){\n",
    "    a, b := 20, 30\n",
    "    fmt.Println(\"a is \", a, \"b is \", b)\n",
    "    a, b := 40, 50\n",
    "    fmt.Println(\"b is\", b, \"c is \", c)\n",
    "//     b, c = 80, 90\n",
    "//     fmt.Println(\"changed b is\",b, \"c is\", c)\n",
    "    \n",
    "}\n",
    "main()"
   ]
  },
  {
   "cell_type": "code",
   "execution_count": 46,
   "metadata": {},
   "outputs": [],
   "source": [
    "// Min program"
   ]
  },
  {
   "cell_type": "code",
   "execution_count": 48,
   "metadata": {},
   "outputs": [
    {
     "name": "stdout",
     "output_type": "stream",
     "text": [
      "Minimum value is 145.8\n"
     ]
    }
   ],
   "source": [
    "package main\n",
    "\n",
    "import (  \n",
    "    \"fmt\"\n",
    "    \"math\"\n",
    ")\n",
    "\n",
    "func main() {  \n",
    "    a, b := 145.8, 543.8\n",
    "    c := math.Min(a, b)\n",
    "    fmt.Println(\"Minimum value is\", c)\n",
    "}\n",
    "\n",
    "main()\n",
    "\n"
   ]
  },
  {
   "cell_type": "code",
   "execution_count": 49,
   "metadata": {},
   "outputs": [
    {
     "ename": "ERROR",
     "evalue": "repl.go:5:5: error compiling assignment: age = \"naveen\"\n\tcannot convert untyped constant {string \"naveen\"} to <int>",
     "output_type": "error",
     "traceback": [
      "repl.go:5:5: error compiling assignment: age = \"naveen\"\n\tcannot convert untyped constant {string \"naveen\"} to <int>"
     ]
    }
   ],
   "source": [
    "package main\n",
    "\n",
    "func main() {  \n",
    "    age := 29      // age is int\n",
    "    age = \"naveen\" // error since we are trying to assign a string to a variable of type int\n",
    "}"
   ]
  },
  {
   "cell_type": "code",
   "execution_count": null,
   "metadata": {},
   "outputs": [],
   "source": []
  }
 ],
 "metadata": {
  "kernelspec": {
   "display_name": "Go",
   "language": "go",
   "name": "gophernotes"
  },
  "language_info": {
   "codemirror_mode": "",
   "file_extension": ".go",
   "mimetype": "",
   "name": "go",
   "nbconvert_exporter": "",
   "pygments_lexer": "",
   "version": "go1.14.4"
  }
 },
 "nbformat": 4,
 "nbformat_minor": 2
}
